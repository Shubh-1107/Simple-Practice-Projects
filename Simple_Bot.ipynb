{
  "nbformat": 4,
  "nbformat_minor": 0,
  "metadata": {
    "colab": {
      "name": "Simple Bot.ipynb",
      "provenance": [],
      "collapsed_sections": [],
      "authorship_tag": "ABX9TyPjiBs51BT6extMBSQvlVHb"
    },
    "kernelspec": {
      "name": "python3",
      "display_name": "Python 3"
    },
    "language_info": {
      "name": "python"
    }
  },
  "cells": [
    {
      "cell_type": "code",
      "metadata": {
        "colab": {
          "base_uri": "https://localhost:8080/"
        },
        "id": "ToPnT7YWJtwL",
        "outputId": "b6af8308-caa1-4ea8-c834-1a71e62e1dbf"
      },
      "source": [
        "! pwd"
      ],
      "execution_count": 1,
      "outputs": [
        {
          "output_type": "stream",
          "name": "stdout",
          "text": [
            "/content\n"
          ]
        }
      ]
    },
    {
      "cell_type": "code",
      "metadata": {
        "id": "TYezLkO4L_Qx"
      },
      "source": [
        "! mkdir simple_bot"
      ],
      "execution_count": 2,
      "outputs": []
    },
    {
      "cell_type": "code",
      "metadata": {
        "id": "Yq5pyqFdMha3"
      },
      "source": [
        "# Importing Libraries for text processing.\n",
        "import nltk\n",
        "import numpy as np"
      ],
      "execution_count": 3,
      "outputs": []
    },
    {
      "cell_type": "markdown",
      "metadata": {
        "id": "IghN8AX3srC5"
      },
      "source": [
        "**Tokenization**\n",
        "\n",
        "It is the process of breaking down sentence or paragraphs into smaller chunks of words called tokens."
      ]
    },
    {
      "cell_type": "code",
      "metadata": {
        "colab": {
          "base_uri": "https://localhost:8080/"
        },
        "id": "v_u1rGkwM7dg",
        "outputId": "3e02c794-b05a-48da-c1c2-fb9ce8d6c3d4"
      },
      "source": [
        "nltk.download('punkt')      # Downloading model to tokenize message.\n",
        "from nltk.tokenize import word_tokenize"
      ],
      "execution_count": 4,
      "outputs": [
        {
          "output_type": "stream",
          "name": "stdout",
          "text": [
            "[nltk_data] Downloading package punkt to /root/nltk_data...\n",
            "[nltk_data]   Unzipping tokenizers/punkt.zip.\n"
          ]
        }
      ]
    },
    {
      "cell_type": "markdown",
      "metadata": {
        "id": "OvC1nQups8vK"
      },
      "source": [
        "**Stop Words Removal**\n",
        "\n",
        "by removing these words theh meaning of the sentences dose not changes. Words like not, like, etc. are called stopwords and should be removed before feeding to any algorithm."
      ]
    },
    {
      "cell_type": "code",
      "metadata": {
        "colab": {
          "base_uri": "https://localhost:8080/"
        },
        "id": "LskB5utBNXIw",
        "outputId": "0537ed75-983e-4fa4-84e6-65aa481874b8"
      },
      "source": [
        "nltk.download('stopwords')\n",
        "from nltk.corpus import stopwords"
      ],
      "execution_count": 5,
      "outputs": [
        {
          "output_type": "stream",
          "name": "stdout",
          "text": [
            "[nltk_data] Downloading package stopwords to /root/nltk_data...\n",
            "[nltk_data]   Unzipping corpora/stopwords.zip.\n"
          ]
        }
      ]
    },
    {
      "cell_type": "markdown",
      "metadata": {
        "id": "ub9crlPgtbd2"
      },
      "source": [
        "**Lemmatization**\n",
        "\n",
        "It is the process of converting a word into its base form. \n",
        "Eg.: 'Moving' -> Lemmatization -> 'Move'"
      ]
    },
    {
      "cell_type": "code",
      "metadata": {
        "colab": {
          "base_uri": "https://localhost:8080/"
        },
        "id": "2Az4k5PYNmcw",
        "outputId": "a2933cad-b547-4e02-8289-53c8a0899d52"
      },
      "source": [
        "nltk.download('wordnet')\n",
        "from nltk.stem import WordNetLemmatizer"
      ],
      "execution_count": 6,
      "outputs": [
        {
          "output_type": "stream",
          "name": "stdout",
          "text": [
            "[nltk_data] Downloading package wordnet to /root/nltk_data...\n",
            "[nltk_data]   Unzipping corpora/wordnet.zip.\n"
          ]
        }
      ]
    },
    {
      "cell_type": "markdown",
      "metadata": {
        "id": "-JMNkTKlt3H9"
      },
      "source": [
        "**Vectorization**\n",
        "\n",
        "We need to convert the strings to numbers based on their importance. Here we use TF_IDF vectorization to convert those text to vector of importance."
      ]
    },
    {
      "cell_type": "code",
      "metadata": {
        "id": "7qxLthGuN5k6"
      },
      "source": [
        "def clean_corpus(corpus):\n",
        "  corpus = [doc.lower() for doc in corpus]\n",
        "  cleaned_corpus = []\n",
        "  stop_words = stopwords.words('english')\n",
        "  wordnet_lemmatizer = WordNetLemmatizer()\n",
        "  # iteration over every text\n",
        "  for doc in corpus :\n",
        "    tokens = word_tokenize(doc)\n",
        "    cleaned_sentence = []\n",
        "    for token in tokens :\n",
        "      if token not in stop_words and token.isalpha():\n",
        "        cleaned_sentence.append(wordnet_lemmatizer.lemmatize(token))\n",
        "    cleaned_corpus.append(''.join(cleaned_sentence))\n",
        "  return cleaned_corpus"
      ],
      "execution_count": 7,
      "outputs": []
    },
    {
      "cell_type": "code",
      "metadata": {
        "id": "UjmbZd-UTI_z"
      },
      "source": [
        "import json\n",
        "with open('/content/simple_bot/intents.json') as file:\n",
        "  intents = json.load(file)"
      ],
      "execution_count": 8,
      "outputs": []
    },
    {
      "cell_type": "markdown",
      "metadata": {
        "id": "FQ2vBkRnufox"
      },
      "source": [
        "Clean and stored in form of vectors."
      ]
    },
    {
      "cell_type": "code",
      "metadata": {
        "id": "R9xsTNp5Tw6r"
      },
      "source": [
        "corpus = []\n",
        "tags = []\n",
        "for intent in intents['intents']:\n",
        "  for pattern in intent['patterns']:\n",
        "    corpus.append(pattern)\n",
        "    tags.append(intent['tag'])"
      ],
      "execution_count": 9,
      "outputs": []
    },
    {
      "cell_type": "code",
      "metadata": {
        "colab": {
          "base_uri": "https://localhost:8080/"
        },
        "id": "gpYcQsaOdLVO",
        "outputId": "3dcba2d3-4410-467b-952d-d9380eedcbbe"
      },
      "source": [
        "cleaned_corpus = clean_corpus(corpus)\n",
        "cleaned_corpus"
      ],
      "execution_count": 10,
      "outputs": [
        {
          "output_type": "execute_result",
          "data": {
            "text/plain": [
              "['hi',\n",
              " 'anyone',\n",
              " 'hey',\n",
              " 'hola',\n",
              " 'hello',\n",
              " 'goodday',\n",
              " 'bye',\n",
              " 'seelater',\n",
              " 'goodbye',\n",
              " 'nicechattingbye',\n",
              " 'tillnexttime',\n",
              " '',\n",
              " 'thanks',\n",
              " 'thank',\n",
              " 'helpful',\n",
              " 'awesomethanks',\n",
              " 'thankshelping',\n",
              " 'couldhelp',\n",
              " 'helpprovide',\n",
              " 'helpful',\n",
              " 'supportoffered',\n",
              " 'pleasecheckorderstatus',\n",
              " 'ablecheckorderstatus',\n",
              " 'helporderstatus',\n",
              " 'orderstatus',\n",
              " 'order',\n",
              " 'food',\n",
              " 'trackorder',\n",
              " 'trackfood',\n",
              " 'hiwantcancelorder',\n",
              " 'wantcancelorder',\n",
              " 'pleasecancelorder',\n",
              " 'cancelorder',\n",
              " 'wantadddeliveryinstruction',\n",
              " 'pleaseadddeliveryinstruction',\n",
              " 'includedeliveryinstruction',\n",
              " 'telljoke',\n",
              " 'feelingbored',\n",
              " 'jokeplease',\n",
              " 'makelaugh',\n",
              " 'wantlaugh']"
            ]
          },
          "metadata": {},
          "execution_count": 10
        }
      ]
    },
    {
      "cell_type": "markdown",
      "metadata": {
        "id": "b7FxstpEdil5"
      },
      "source": [
        "**Vectorising Intents**"
      ]
    },
    {
      "cell_type": "code",
      "metadata": {
        "id": "YCx95G86ddNv"
      },
      "source": [
        "from sklearn.feature_extraction.text import TfidfVectorizer\n",
        "vectorizer = TfidfVectorizer()\n",
        "X = vectorizer.fit_transform(cleaned_corpus)"
      ],
      "execution_count": 12,
      "outputs": []
    },
    {
      "cell_type": "markdown",
      "metadata": {
        "id": "r8PiGyJjuuXh"
      },
      "source": [
        "**Reshaping the vectors for our neural network**"
      ]
    },
    {
      "cell_type": "code",
      "metadata": {
        "id": "sOuaFNkXd0Tu"
      },
      "source": [
        "from sklearn.preprocessing import OneHotEncoder\n",
        "encoder = OneHotEncoder()\n",
        "y = encoder.fit_transform(np.array(tags).reshape(-1,1))"
      ],
      "execution_count": 14,
      "outputs": []
    },
    {
      "cell_type": "markdown",
      "metadata": {
        "id": "2WWcpKDXeYQF"
      },
      "source": [
        "**Training Neural Network**"
      ]
    },
    {
      "cell_type": "code",
      "metadata": {
        "colab": {
          "base_uri": "https://localhost:8080/"
        },
        "id": "QaUuEyo0eW1E",
        "outputId": "c0aed972-6d9e-4314-9595-c6a6339defe8"
      },
      "source": [
        "from tensorflow.keras import Sequential\n",
        "from tensorflow.keras.layers import Dense, Dropout\n",
        "\n",
        "model = Sequential([\n",
        "                    Dense(128, input_shape=(X.shape[1],), activation='relu'),\n",
        "                    Dropout(0.2),\n",
        "                    Dense(64, activation = 'relu'),\n",
        "                    Dropout(0.2),\n",
        "                    Dense(y.shape[1], activation = 'softmax')\n",
        "])\n",
        "model.compile(loss= 'categorical_crossentropy', optimizer='adam', metrics=['accuracy'])\n",
        "model.summary()"
      ],
      "execution_count": 16,
      "outputs": [
        {
          "output_type": "stream",
          "name": "stdout",
          "text": [
            "Model: \"sequential\"\n",
            "_________________________________________________________________\n",
            "Layer (type)                 Output Shape              Param #   \n",
            "=================================================================\n",
            "dense (Dense)                (None, 128)               5120      \n",
            "_________________________________________________________________\n",
            "dropout (Dropout)            (None, 128)               0         \n",
            "_________________________________________________________________\n",
            "dense_1 (Dense)              (None, 64)                8256      \n",
            "_________________________________________________________________\n",
            "dropout_1 (Dropout)          (None, 64)                0         \n",
            "_________________________________________________________________\n",
            "dense_2 (Dense)              (None, 8)                 520       \n",
            "=================================================================\n",
            "Total params: 13,896\n",
            "Trainable params: 13,896\n",
            "Non-trainable params: 0\n",
            "_________________________________________________________________\n"
          ]
        }
      ]
    },
    {
      "cell_type": "code",
      "metadata": {
        "colab": {
          "base_uri": "https://localhost:8080/"
        },
        "id": "dEjis-TNgBl9",
        "outputId": "8546043c-4ca2-420f-b865-504548a35e79"
      },
      "source": [
        "history = model.fit(X.toarray(), y.toarray(), epochs=21, batch_size=1)"
      ],
      "execution_count": 20,
      "outputs": [
        {
          "output_type": "stream",
          "name": "stdout",
          "text": [
            "Epoch 1/21\n",
            "41/41 [==============================] - 0s 2ms/step - loss: 0.1151 - accuracy: 0.9512\n",
            "Epoch 2/21\n",
            "41/41 [==============================] - 0s 2ms/step - loss: 0.0738 - accuracy: 0.9512\n",
            "Epoch 3/21\n",
            "41/41 [==============================] - 0s 2ms/step - loss: 0.0587 - accuracy: 1.0000\n",
            "Epoch 4/21\n",
            "41/41 [==============================] - 0s 2ms/step - loss: 0.0681 - accuracy: 0.9756\n",
            "Epoch 5/21\n",
            "41/41 [==============================] - 0s 2ms/step - loss: 0.0720 - accuracy: 0.9756\n",
            "Epoch 6/21\n",
            "41/41 [==============================] - 0s 2ms/step - loss: 0.0690 - accuracy: 0.9756\n",
            "Epoch 7/21\n",
            "41/41 [==============================] - 0s 2ms/step - loss: 0.0611 - accuracy: 1.0000\n",
            "Epoch 8/21\n",
            "41/41 [==============================] - 0s 2ms/step - loss: 0.0629 - accuracy: 0.9512\n",
            "Epoch 9/21\n",
            "41/41 [==============================] - 0s 2ms/step - loss: 0.0484 - accuracy: 0.9756\n",
            "Epoch 10/21\n",
            "41/41 [==============================] - 0s 2ms/step - loss: 0.0500 - accuracy: 0.9756\n",
            "Epoch 11/21\n",
            "41/41 [==============================] - 0s 2ms/step - loss: 0.0713 - accuracy: 0.9756\n",
            "Epoch 12/21\n",
            "41/41 [==============================] - 0s 2ms/step - loss: 0.0533 - accuracy: 0.9512\n",
            "Epoch 13/21\n",
            "41/41 [==============================] - 0s 2ms/step - loss: 0.0499 - accuracy: 0.9756\n",
            "Epoch 14/21\n",
            "41/41 [==============================] - 0s 2ms/step - loss: 0.0512 - accuracy: 0.9512\n",
            "Epoch 15/21\n",
            "41/41 [==============================] - 0s 2ms/step - loss: 0.0618 - accuracy: 0.9756\n",
            "Epoch 16/21\n",
            "41/41 [==============================] - 0s 2ms/step - loss: 0.0416 - accuracy: 0.9756\n",
            "Epoch 17/21\n",
            "41/41 [==============================] - 0s 2ms/step - loss: 0.0510 - accuracy: 0.9512\n",
            "Epoch 18/21\n",
            "41/41 [==============================] - 0s 2ms/step - loss: 0.0443 - accuracy: 0.9756\n",
            "Epoch 19/21\n",
            "41/41 [==============================] - 0s 2ms/step - loss: 0.0426 - accuracy: 0.9756\n",
            "Epoch 20/21\n",
            "41/41 [==============================] - 0s 2ms/step - loss: 0.0829 - accuracy: 0.9512\n",
            "Epoch 21/21\n",
            "41/41 [==============================] - 0s 2ms/step - loss: 0.0357 - accuracy: 0.9756\n"
          ]
        }
      ]
    },
    {
      "cell_type": "markdown",
      "metadata": {
        "id": "AzzBoyLLklAR"
      },
      "source": [
        "**Intent Classification**"
      ]
    },
    {
      "cell_type": "code",
      "metadata": {
        "colab": {
          "base_uri": "https://localhost:8080/"
        },
        "id": "HmDdt01FkkbV",
        "outputId": "47d868cf-92d0-4652-eaac-e5536d5c3b64"
      },
      "source": [
        "# Defining the function to predict intent tag of a particular message.\n",
        "\n",
        "# if the prediction for every tag is low, then ew want to classify that message as noanswer.\n",
        "INTENT_NOT_FOUND_THRESHOLD = 0.40\n",
        "\n",
        "def predict_intent_tag(message):\n",
        "  message = clean_corpus([message])\n",
        "  X_test = vectorizer.transform(message)\n",
        "  y = model.predict(X_test.toarray())\n",
        "  # if probability of all intents is low, classify it as noanswer.\n",
        "  if y.max() < INTENT_NOT_FOUND_THRESHOLD:\n",
        "    return 'noanswer'\n",
        "\n",
        "  prediction = np.zeros_like(y[0])\n",
        "  prediction[y.argmax()] = 1\n",
        "  tag = encoder.inverse_transform([prediction])[0][0]\n",
        "  return tag\n",
        "\n",
        "print(predict_intent_tag('How you could help me ?'))\n",
        "print(predict_intent_tag('Swiggy chat bot'))\n",
        "print(predict_intent_tag('Where\\'s my order ?'))"
      ],
      "execution_count": 25,
      "outputs": [
        {
          "output_type": "stream",
          "name": "stdout",
          "text": [
            "options\n",
            "goodbye\n",
            "order-status-request\n"
          ]
        }
      ]
    },
    {
      "cell_type": "markdown",
      "metadata": {
        "id": "eFwm_qpCoNLi"
      },
      "source": [
        "**Define the function to fetch the tag from the intent**"
      ]
    },
    {
      "cell_type": "code",
      "metadata": {
        "id": "Cvun-XfuoW-C"
      },
      "source": [
        "import random\n",
        "import time\n",
        "\n",
        "def get_intent(tag):\n",
        "  # to return complete intent from intent tag.\n",
        "  for intent in intents['intents']:\n",
        "    if intent['tag'] == tag:\n",
        "      return intent"
      ],
      "execution_count": 26,
      "outputs": []
    },
    {
      "cell_type": "markdown",
      "metadata": {
        "id": "yigPw6grozl6"
      },
      "source": [
        "**Intent Classifiaction**\n",
        "\n",
        "\n",
        "\n"
      ]
    },
    {
      "cell_type": "code",
      "metadata": {
        "id": "FsbdR9wjox53"
      },
      "source": [
        "def perform_action(action_code, intent):\n",
        "  # function to perform an action which is required by intent.\n",
        "  if action_code == 'CHECK_ORDER_STATUS':\n",
        "    print('\\n Checking database \\n')\n",
        "    time.sleep(2)\n",
        "    order_status = ['in kitchen', 'with delivery executive']\n",
        "    delivery_time = []\n",
        "    return {'intent_tag' : intent['next-intent-tag'][0],\n",
        "            'order status' : random.choice(order_status),\n",
        "            'delivery_time' : random.randint(10, 30)}\n",
        "\n",
        "  elif action_code == 'ORDER_CANCEL_CONFIRMATION':\n",
        "    ch = imput('BOT: Do you want to continue (Y/N) ?')\n",
        "    if ch == 'y' or ch == 'Y':\n",
        "      choice = 0\n",
        "    else : \n",
        "      choice = 1\n",
        "    return {'intent_tag' : intent['next-intent-tag'][choice]}\n",
        "\n",
        "  elif action_code == 'ADD_DELIVERY_INSTRUCTIONS':\n",
        "    instructions = input('Your Instructions: ')\n",
        "    return {'intent-tag' : intent['next-intent-tag'][0]}    "
      ],
      "execution_count": 27,
      "outputs": []
    },
    {
      "cell_type": "markdown",
      "metadata": {
        "id": "lJLYqSgogldI"
      },
      "source": [
        "**Complete ChatBot**"
      ]
    },
    {
      "cell_type": "code",
      "metadata": {
        "colab": {
          "base_uri": "https://localhost:8080/"
        },
        "id": "Gn6eWGH6gkgn",
        "outputId": "927acc61-d590-4940-e9e0-531575ba5de3"
      },
      "source": [
        "while True:\n",
        "  # get message from user.\n",
        "  message = input('You: ')\n",
        "  # predict the intent tag using the trained neural network.\n",
        "  tag = predict_intent_tag(message)\n",
        "  # get complete intent from intent tag.\n",
        "  intent = get_intent(tag)\n",
        "  # generate random response from the intent.\n",
        "  response = random.choice(intent['responses'])\n",
        "  print('Bot : ', response)\n",
        "\n",
        "  # check if there is any need to perform some action.\n",
        "  if 'action' in intent.keys():\n",
        "    action_code = intent['action']\n",
        "    # perform action\n",
        "    data = perform_action(action_code, intent)\n",
        "    # get follow up intent after performing action.\n",
        "    followup_intent = get_intent(data['intent-tag'])\n",
        "    # generate random response from follow up intent.\n",
        "    response = random.choice(followup_intent['responses'])\n",
        "\n",
        "    # print randomly selected response.\n",
        "    if len(data.keys()) > 1:\n",
        "      print('Bot: ', response.format(**data))\n",
        "    else:\n",
        "      print('Bot: ', response)\n",
        "  # break loop if intent was goodbye\n",
        "  if tag == 'goodbye':\n",
        "    break    "
      ],
      "execution_count": null,
      "outputs": [
        {
          "output_type": "stream",
          "name": "stdout",
          "text": [
            "You: hi\n",
            "Bot :  Good to see you again\n"
          ]
        }
      ]
    }
  ]
}