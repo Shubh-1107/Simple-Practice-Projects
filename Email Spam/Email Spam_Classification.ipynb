import pandas as pd
import numpy as np
import spacy
nlp = spacy.load('en_core_web_sm')
data = pd.read_csv('spam.csv', encoding='latin-1')
data.head()
data = data[['Label', 'EmailText']]
data['Label'] = data['Label'].apply(lambda x:0 if x=='ham' else 1)
data.head(11)
def process(x):
  temp = []
  document = nlp(x.lower())
  print(document)
  for i in document:
    if i.is_stop!=True and i.is_punct!=True:
      print(i)
      temp.append(i.lemma_)
      print(temp)
    else:
      pass

  return(' '.join(temp))
data['EmailText'] = data['EmailText'].apply(lambda x: process(x))
from sklearn.feature_extraction.text import TfidfVectorizer
vectorizer = TfidfVectorizer(analyzer='word', stop_words='english')
text_vector = vectorizer.fit_transform(data['EmailText'].values.tolist())
print(text_vector)
import matplotlib.pyplot as plt 
count_Class = pd.value_counts(data.Label, sort = True)

# Data to Plot
labels = 'Ham', 'Spam'
sizes = [count_Class[0], count_Class[1]]
colors = ['green', 'red']
explode = (0.1, 0.1)

# Plot
plt.pie(sizes, explode = explode, labels = labels, colors = colors,
        autopct = '%1.1f%%', shadow = True, startangle = 90)
plt.axis('equal')
plt.show()
from sklearn.model_selection import train_test_split
x_train, x_test, y_train, y_test = train_test_split(text_vector.toarray(), data['Label'], test_size=0.2, random_state=20)
len(x_test)
from sklearn.naive_bayes import BernoulliNB
modelIB = BernoulliNB()
modelIB.fit(x_train, y_train)
print("Training Score of the model : ")
print(modelIB.score(x_train, y_train))
y_predicted = modelIB.predict(x_test)
from sklearn.metrics import accuracy_score
print("Accuracy Score of the model : ")
print(accuracy_score(y_test, y_predicted))
